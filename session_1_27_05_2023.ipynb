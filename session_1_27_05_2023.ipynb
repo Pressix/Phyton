{
 "cells": [
  {
   "attachments": {},
   "cell_type": "markdown",
   "metadata": {},
   "source": [
    "It is not code, just coMarkdownmmit.\n"
   ]
  },
  {
   "cell_type": "code",
   "execution_count": 20,
   "metadata": {},
   "outputs": [
    {
     "name": "stdout",
     "output_type": "stream",
     "text": [
      "Hello world!\n"
     ]
    }
   ],
   "source": [
    "print(\"Hello world!\")"
   ]
  },
  {
   "cell_type": "code",
   "execution_count": 21,
   "metadata": {},
   "outputs": [
    {
     "name": "stdout",
     "output_type": "stream",
     "text": [
      "value\n"
     ]
    }
   ],
   "source": [
    "print(\"value\")  #phyton case sensitive bir dildir. Buyuk kucuk harfe karsi duyarlidir."
   ]
  },
  {
   "cell_type": "code",
   "execution_count": 22,
   "metadata": {},
   "outputs": [
    {
     "name": "stdout",
     "output_type": "stream",
     "text": [
      "Cift tirnakla baslayan cift tirnakla bitmeli\n"
     ]
    }
   ],
   "source": [
    "print('Cift tirnakla baslayan cift tirnakla bitmeli')"
   ]
  },
  {
   "cell_type": "code",
   "execution_count": 23,
   "metadata": {},
   "outputs": [
    {
     "name": "stdout",
     "output_type": "stream",
     "text": [
      "\"\"hello world\n"
     ]
    }
   ],
   "source": [
    "print(\"\"\"\"\"hello world\"\"\"\"\")"
   ]
  },
  {
   "cell_type": "code",
   "execution_count": 24,
   "metadata": {},
   "outputs": [
    {
     "name": "stdout",
     "output_type": "stream",
     "text": [
      "print\n",
      "print\n",
      "print\n"
     ]
    }
   ],
   "source": [
    "print('''print''')\n",
    "print('''print''')\n",
    "print('''print''')"
   ]
  },
  {
   "attachments": {},
   "cell_type": "markdown",
   "metadata": {},
   "source": [
    "### pep8 kuralları:"
   ]
  },
  {
   "attachments": {},
   "cell_type": "markdown",
   "metadata": {},
   "source": [
    "PEP 8 (Python Enhancement Proposal 8), Python programlama dilinde kodun stil ve düzeni için önerilen bir kılavuzdur. Bu kılavuz, Python topluluğu tarafından kabul edilmiş bir standarttır ve kodun okunabilirliğini artırmayı hedefler. İşte bazı önemli PEP 8 kuralları:\n",
    "İsimlendirme:\n",
    "Değişken ve fonksiyon isimleri küçük harflerle ve gerektiğinde alt çizgi (_) kullanarak yazılır. Örnek: my_variable, my_function.\n",
    "Sabit (constant) isimleri tamamen büyük harflerle yazılır. Örnek: MY_CONSTANT.\n",
    "Sınıflar için CamelCase isimlendirme kullanılır. Örnek: MyClass.\n",
    "Modül isimleri küçük harflerle ve gerektiğinde alt çizgi (_) kullanarak yazılır. Örnek: my_module.\n",
    "Girintileme:\n",
    "4 boşluk veya bir sekme karakteri kullanarak girintileme yapılır. Girintileme seviyeleri arasında tutarlılık sağlanmalıdır.\n",
    "Girintileme seviyesi, her seviye için 4 boşluk kullanılması önerilir.\n",
    "Satır Uzunluğu:\n",
    "Bir satırın en fazla 79 karakter olmasını önerilir. Uzun satırları bölmek için parantezler veya satır sonlarındaki devam işareti () kullanılabilir.\n",
    "Boşluklar:\n",
    "Operatörlerin etrafında ve virgül sonrasında bir boşluk bırakılması önerilir. Örnek: a = 10 + 5, my_function(arg1, arg2).\n",
    "Parantezlerin içinde ve etrafında boşluk bırakılması önerilir. Örnek: my_function(arg1, arg2).\n",
    "İfadeler arasında ve fonksiyon tanımları arasında bir boşluk bırakılması önerilir.\n",
    "Dosyaların en üstünde ve sınıf/fonksiyon tanımlarının başında 2 boş satır bırakılması önerilir.\n",
    "Yorumlar:\n",
    "Kodun anlaşılmasını kolaylaştırmak için açıklayıcı yorumlar kullanılmalıdır.\n",
    "Yorumlar, kodun üzerinde yer almalı veya boş bir satır ile ayrılmalıdır.\n",
    "Kısa yorumlar için # sembolü kullanılır, daha uzun açıklamalar için çok satırlı yorumlar (''' ... ''' veya \"\"\" ... \"\"\") kullanılır.\n",
    "Bu, PEP 8'in bazı temel kurallarını özetlemektedir. Daha fazla ayrıntı için orijinal PEP 8 belgesine başvurmanız önerilir."
   ]
  },
  {
   "cell_type": "code",
   "execution_count": 25,
   "metadata": {},
   "outputs": [
    {
     "data": {
      "text/plain": [
       "8"
      ]
     },
     "execution_count": 25,
     "metadata": {},
     "output_type": "execute_result"
    }
   ],
   "source": [
    "3+5\n"
   ]
  },
  {
   "cell_type": "code",
   "execution_count": 26,
   "metadata": {},
   "outputs": [
    {
     "data": {
      "text/plain": [
       "8"
      ]
     },
     "execution_count": 26,
     "metadata": {},
     "output_type": "execute_result"
    }
   ],
   "source": [
    "3 + 5"
   ]
  },
  {
   "cell_type": "code",
   "execution_count": 27,
   "metadata": {},
   "outputs": [],
   "source": [
    "### pep8 kurali geregi bir satirda 79 karakterden fazlası istenmez."
   ]
  },
  {
   "cell_type": "code",
   "execution_count": 29,
   "metadata": {},
   "outputs": [
    {
     "data": {
      "text/plain": [
       "8"
      ]
     },
     "execution_count": 29,
     "metadata": {},
     "output_type": "execute_result"
    }
   ],
   "source": [
    "3+5 # 3 ile 5 toplami 8 eder."
   ]
  },
  {
   "attachments": {},
   "cell_type": "markdown",
   "metadata": {},
   "source": [
    "## Variables"
   ]
  },
  {
   "cell_type": "code",
   "execution_count": 31,
   "metadata": {},
   "outputs": [],
   "source": [
    "name = \"ali\""
   ]
  },
  {
   "cell_type": "code",
   "execution_count": 32,
   "metadata": {},
   "outputs": [],
   "source": [
    "age = 32"
   ]
  },
  {
   "cell_type": "code",
   "execution_count": 33,
   "metadata": {},
   "outputs": [
    {
     "name": "stdout",
     "output_type": "stream",
     "text": [
      "ali\n"
     ]
    }
   ],
   "source": [
    "print(name)"
   ]
  },
  {
   "cell_type": "code",
   "execution_count": 34,
   "metadata": {},
   "outputs": [
    {
     "name": "stdout",
     "output_type": "stream",
     "text": [
      "32\n"
     ]
    }
   ],
   "source": [
    "print(age)"
   ]
  },
  {
   "cell_type": "code",
   "execution_count": 39,
   "metadata": {},
   "outputs": [],
   "source": [
    "name2 = \"leyla\""
   ]
  },
  {
   "cell_type": "code",
   "execution_count": 40,
   "metadata": {},
   "outputs": [
    {
     "name": "stdout",
     "output_type": "stream",
     "text": [
      "leyla\n"
     ]
    }
   ],
   "source": [
    "print(name2)"
   ]
  },
  {
   "cell_type": "code",
   "execution_count": 41,
   "metadata": {},
   "outputs": [],
   "source": [
    "## degiskenler rakamla baslamaz. 4name olarak yazilmaz."
   ]
  },
  {
   "cell_type": "code",
   "execution_count": 42,
   "metadata": {},
   "outputs": [],
   "source": [
    "first_name = \"Hikmet\" \n",
    "last_name = \"Erdogan\"    "
   ]
  },
  {
   "cell_type": "code",
   "execution_count": 43,
   "metadata": {},
   "outputs": [],
   "source": [
    "name_5 = \"alper\""
   ]
  },
  {
   "cell_type": "code",
   "execution_count": 45,
   "metadata": {},
   "outputs": [],
   "source": [
    "pi = 3\n",
    "num = 1"
   ]
  },
  {
   "cell_type": "code",
   "execution_count": 46,
   "metadata": {},
   "outputs": [
    {
     "data": {
      "text/plain": [
       "2"
      ]
     },
     "execution_count": 46,
     "metadata": {},
     "output_type": "execute_result"
    }
   ],
   "source": [
    "pi-num"
   ]
  },
  {
   "cell_type": "code",
   "execution_count": 47,
   "metadata": {},
   "outputs": [],
   "source": [
    "name_6 , name_7 = \"ali\" , \"necati\""
   ]
  },
  {
   "cell_type": "code",
   "execution_count": 48,
   "metadata": {},
   "outputs": [
    {
     "name": "stdout",
     "output_type": "stream",
     "text": [
      "ali\n",
      "necati\n"
     ]
    }
   ],
   "source": [
    "print(name_6)\n",
    "print(name_7)"
   ]
  },
  {
   "cell_type": "code",
   "execution_count": 51,
   "metadata": {},
   "outputs": [],
   "source": [
    "name_10 = \"Yusuf\",\"Leyla\""
   ]
  },
  {
   "cell_type": "code",
   "execution_count": 53,
   "metadata": {},
   "outputs": [
    {
     "name": "stdout",
     "output_type": "stream",
     "text": [
      "('Yusuf', 'Leyla')\n"
     ]
    }
   ],
   "source": [
    "print(name_10)  # parantezde verdi sonucu. tek degiskene birden falza deger atadi."
   ]
  },
  {
   "cell_type": "code",
   "execution_count": 62,
   "metadata": {},
   "outputs": [
    {
     "name": "stdout",
     "output_type": "stream",
     "text": [
      "  '  \n"
     ]
    }
   ],
   "source": [
    "\n",
    "print(\"\"\"  '  \"\"\")"
   ]
  }
 ],
 "metadata": {
  "kernelspec": {
   "display_name": "Python 3",
   "language": "python",
   "name": "python3"
  },
  "language_info": {
   "codemirror_mode": {
    "name": "ipython",
    "version": 3
   },
   "file_extension": ".py",
   "mimetype": "text/x-python",
   "name": "python",
   "nbconvert_exporter": "python",
   "pygments_lexer": "ipython3",
   "version": "3.11.3"
  },
  "orig_nbformat": 4
 },
 "nbformat": 4,
 "nbformat_minor": 2
}
